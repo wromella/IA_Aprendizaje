{
  "nbformat": 4,
  "nbformat_minor": 0,
  "metadata": {
    "colab": {
      "name": "Estimaciones de Incertidumbre.ipynb",
      "version": "0.3.2",
      "provenance": [],
      "include_colab_link": true
    },
    "kernelspec": {
      "name": "python3",
      "display_name": "Python 3"
    }
  },
  "cells": [
    {
      "cell_type": "markdown",
      "metadata": {
        "id": "view-in-github",
        "colab_type": "text"
      },
      "source": [
        "<a href=\"https://colab.research.google.com/github/wromella/IA_Aprendizaje/blob/master/Estimaciones_de_Incertidumbre.ipynb\" target=\"_parent\"><img src=\"https://colab.research.google.com/assets/colab-badge.svg\" alt=\"Open In Colab\"/></a>"
      ]
    },
    {
      "metadata": {
        "id": "EbADrr1eDmVY",
        "colab_type": "code",
        "colab": {}
      },
      "cell_type": "code",
      "source": [
        "from sklearn.datasets import load_iris\n",
        "from sklearn.model_selection import train_test_split\n",
        "from sklearn import svm"
      ],
      "execution_count": 0,
      "outputs": []
    },
    {
      "metadata": {
        "id": "51RsevstELHX",
        "colab_type": "code",
        "colab": {}
      },
      "cell_type": "code",
      "source": [
        "iris = load_iris()"
      ],
      "execution_count": 0,
      "outputs": []
    },
    {
      "metadata": {
        "id": "Qjn_P7dPEOA5",
        "colab_type": "code",
        "colab": {}
      },
      "cell_type": "code",
      "source": [
        "Xe, Xt, ye, yt = train_test_split(iris.data, iris.target)"
      ],
      "execution_count": 0,
      "outputs": []
    },
    {
      "metadata": {
        "id": "Ycl0hfHzEYTz",
        "colab_type": "code",
        "colab": {}
      },
      "cell_type": "code",
      "source": [
        "algoritmo = svm.SVC(probability = True)"
      ],
      "execution_count": 0,
      "outputs": []
    },
    {
      "metadata": {
        "id": "uwjis7AREg8Z",
        "colab_type": "code",
        "colab": {
          "base_uri": "https://localhost:8080/",
          "height": 87
        },
        "outputId": "23d68ac4-dc8a-47dd-e16d-5fb65f43b527"
      },
      "cell_type": "code",
      "source": [
        "algoritmo.fit(Xe,ye)"
      ],
      "execution_count": 9,
      "outputs": [
        {
          "output_type": "execute_result",
          "data": {
            "text/plain": [
              "SVC(C=1.0, cache_size=200, class_weight=None, coef0=0.0,\n",
              "  decision_function_shape='ovr', degree=3, gamma='auto', kernel='rbf',\n",
              "  max_iter=-1, probability=True, random_state=None, shrinking=True,\n",
              "  tol=0.001, verbose=False)"
            ]
          },
          "metadata": {
            "tags": []
          },
          "execution_count": 9
        }
      ]
    },
    {
      "metadata": {
        "id": "1ZZ-5segEenD",
        "colab_type": "code",
        "colab": {
          "base_uri": "https://localhost:8080/",
          "height": 191
        },
        "outputId": "ee133ad7-d653-4df8-b05b-fdb15e6adfdb"
      },
      "cell_type": "code",
      "source": [
        "algoritmo.decision_function_shape = \"ovr\"\n",
        "algoritmo.decision_function(Xt)[:10]"
      ],
      "execution_count": 11,
      "outputs": [
        {
          "output_type": "execute_result",
          "data": {
            "text/plain": [
              "array([[-0.31173609,  0.84049486,  2.47124122],\n",
              "       [-0.31800238,  0.86129196,  2.45671042],\n",
              "       [-0.29337849,  2.44125624,  0.85212225],\n",
              "       [-0.31571985,  0.95592263,  2.35979722],\n",
              "       [-0.32662821,  2.48397895,  0.84264926],\n",
              "       [ 2.39017275,  0.8138948 , -0.20406755],\n",
              "       [-0.31894067,  2.31401961,  1.00492106],\n",
              "       [-0.34526013,  1.10405448,  2.24120564],\n",
              "       [ 2.40159097,  0.79493653, -0.19652749],\n",
              "       [-0.18085646,  2.37665275,  0.80420371]])"
            ]
          },
          "metadata": {
            "tags": []
          },
          "execution_count": 11
        }
      ]
    },
    {
      "metadata": {
        "id": "pWnvY6x-GXJj",
        "colab_type": "code",
        "colab": {
          "base_uri": "https://localhost:8080/",
          "height": 503
        },
        "outputId": "acb3300d-d229-4e57-f076-6f56642fd79c"
      },
      "cell_type": "code",
      "source": [
        "algoritmo.predict_proba(Xt)[10:]"
      ],
      "execution_count": 12,
      "outputs": [
        {
          "output_type": "execute_result",
          "data": {
            "text/plain": [
              "array([[0.96608915, 0.01591948, 0.01799138],\n",
              "       [0.01173236, 0.93541509, 0.05285255],\n",
              "       [0.01073516, 0.01834497, 0.97091986],\n",
              "       [0.01598117, 0.94904865, 0.03497017],\n",
              "       [0.95501893, 0.01931929, 0.02566178],\n",
              "       [0.94835902, 0.02347025, 0.02817073],\n",
              "       [0.01150559, 0.00586497, 0.98262943],\n",
              "       [0.02410824, 0.72451357, 0.25137819],\n",
              "       [0.91286626, 0.04396143, 0.04317231],\n",
              "       [0.01173885, 0.05312236, 0.93513879],\n",
              "       [0.94324894, 0.03119786, 0.0255532 ],\n",
              "       [0.018977  , 0.23144958, 0.74957342],\n",
              "       [0.01451958, 0.56093089, 0.42454953],\n",
              "       [0.01386214, 0.33591535, 0.65022251],\n",
              "       [0.01172192, 0.90398529, 0.08429279],\n",
              "       [0.01568438, 0.11283823, 0.87147739],\n",
              "       [0.960785  , 0.02022426, 0.01899074],\n",
              "       [0.01390507, 0.02499132, 0.96110362],\n",
              "       [0.01458155, 0.44851054, 0.5369079 ],\n",
              "       [0.93328856, 0.03896361, 0.02774783],\n",
              "       [0.01412576, 0.50980102, 0.47607322],\n",
              "       [0.01458398, 0.01672491, 0.96869111],\n",
              "       [0.01218979, 0.01610278, 0.97170743],\n",
              "       [0.95715507, 0.0212468 , 0.02159813],\n",
              "       [0.01447778, 0.96503374, 0.02048848],\n",
              "       [0.01196678, 0.97746314, 0.01057008],\n",
              "       [0.95353345, 0.02659771, 0.01986884],\n",
              "       [0.01572335, 0.83388409, 0.15039256]])"
            ]
          },
          "metadata": {
            "tags": []
          },
          "execution_count": 12
        }
      ]
    },
    {
      "metadata": {
        "id": "MT0_4RS1GdFl",
        "colab_type": "code",
        "colab": {
          "base_uri": "https://localhost:8080/",
          "height": 35
        },
        "outputId": "2881451b-86ec-4504-c786-fbfa8569a1fe"
      },
      "cell_type": "code",
      "source": [
        "algoritmo.predict(Xt)[:10]"
      ],
      "execution_count": 13,
      "outputs": [
        {
          "output_type": "execute_result",
          "data": {
            "text/plain": [
              "array([2, 2, 1, 2, 1, 0, 1, 2, 0, 1])"
            ]
          },
          "metadata": {
            "tags": []
          },
          "execution_count": 13
        }
      ]
    }
  ]
}